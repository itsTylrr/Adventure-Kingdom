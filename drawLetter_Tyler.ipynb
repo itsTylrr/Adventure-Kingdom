{
  "nbformat": 4,
  "nbformat_minor": 0,
  "metadata": {
    "colab": {
      "provenance": [],
      "authorship_tag": "ABX9TyOBLz8RJ5HYsg4H3ZyjJCwm",
      "include_colab_link": true
    },
    "kernelspec": {
      "name": "python3",
      "display_name": "Python 3"
    },
    "language_info": {
      "name": "python"
    }
  },
  "cells": [
    {
      "cell_type": "markdown",
      "metadata": {
        "id": "view-in-github",
        "colab_type": "text"
      },
      "source": [
        "<a href=\"https://colab.research.google.com/github/TDoeG/Adventure-Kingdom/blob/main/drawLetter_Tyler.ipynb\" target=\"_parent\"><img src=\"https://colab.research.google.com/assets/colab-badge.svg\" alt=\"Open In Colab\"/></a>"
      ]
    },
    {
      "cell_type": "code",
      "execution_count": 1,
      "metadata": {
        "colab": {
          "base_uri": "https://localhost:8080/"
        },
        "id": "o1x2kuHf6Q_4",
        "outputId": "8ab45eca-02e1-4be1-cda4-a03d36e936da"
      },
      "outputs": [
        {
          "output_type": "stream",
          "name": "stdout",
          "text": [
            "Collecting ColabTurtlePlus\n",
            "  Downloading ColabTurtlePlus-2.0.1-py3-none-any.whl.metadata (10 kB)\n",
            "Downloading ColabTurtlePlus-2.0.1-py3-none-any.whl (31 kB)\n",
            "Installing collected packages: ColabTurtlePlus\n",
            "Successfully installed ColabTurtlePlus-2.0.1\n"
          ]
        }
      ],
      "source": [
        "#Installs the ColabTurtlePlus lib\n",
        "!pip install ColabTurtlePlus"
      ]
    },
    {
      "cell_type": "code",
      "source": [
        "#Imports Turtle lib\n",
        "from ColabTurtlePlus.Turtle import *\n",
        "\n",
        "def draw_T(the_turtle):\n",
        "  # Creates base stem for the letter T\n",
        "  the_turtle.lt(90)\n",
        "  the_turtle.fd(100)\n",
        "  # Creates the top left line for the letter T\n",
        "  the_turtle.lt(90)\n",
        "  the_turtle.fd(50)\n",
        "  # Creates the top right line for the letter T\n",
        "  the_turtle.rt(180)\n",
        "  the_turtle.fd(100)\n",
        "\n",
        "tylerTheTurtle = Turtle()\n",
        "draw_T(tylerTheTurtle)"
      ],
      "metadata": {
        "colab": {
          "base_uri": "https://localhost:8080/",
          "height": 621
        },
        "id": "_EDmskc06nRM",
        "outputId": "be37645c-1583-42e4-a232-91f42d7b0b23"
      },
      "execution_count": 6,
      "outputs": [
        {
          "output_type": "display_data",
          "data": {
            "text/plain": [
              "<IPython.core.display.HTML object>"
            ],
            "text/html": [
              "\n",
              "      <svg width=\"800\" height=\"600\">  \n",
              "        <rect width=\"100%\" height=\"100%\" style=\"fill:white;stroke:;stroke-width:1\"/>\n",
              "        \n",
              "        \n",
              "        <line x1=\"400.0\" y1=\"300.0\" x2=\"400.0\" y2=\"200.0\" stroke-linecap=\"round\" style=\"stroke:black;stroke-width:1\" /><line x1=\"400.0\" y1=\"200.0\" x2=\"350.0\" y2=\"200.0\" stroke-linecap=\"round\" style=\"stroke:black;stroke-width:1\" /><line x1=\"350.0\" y1=\"200.0\" x2=\"450.0\" y2=\"200.0\" stroke-linecap=\"round\" style=\"stroke:black;stroke-width:1\" /><line x1=\"400.0\" y1=\"300.0\" x2=\"400.0\" y2=\"200.0\" stroke-linecap=\"round\" style=\"stroke:black;stroke-width:1\" /><line x1=\"400.0\" y1=\"200.0\" x2=\"350.0\" y2=\"200.0\" stroke-linecap=\"round\" style=\"stroke:black;stroke-width:1\" /><line x1=\"350.0\" y1=\"200.0\" x2=\"360.0\" y2=\"200.0\" stroke-linecap=\"round\" style=\"stroke:black;stroke-width:1\" /><line x1=\"360.0\" y1=\"200.0\" x2=\"370.0\" y2=\"200.0\" stroke-linecap=\"round\" style=\"stroke:black;stroke-width:1\" /><line x1=\"370.0\" y1=\"200.0\" x2=\"380.0\" y2=\"200.0\" stroke-linecap=\"round\" style=\"stroke:black;stroke-width:1\" /><line x1=\"380.0\" y1=\"200.0\" x2=\"390.0\" y2=\"200.0\" stroke-linecap=\"round\" style=\"stroke:black;stroke-width:1\" /><line x1=\"390.0\" y1=\"200.0\" x2=\"400.0\" y2=\"200.0\" stroke-linecap=\"round\" style=\"stroke:black;stroke-width:1\" /><line x1=\"400.0\" y1=\"200.0\" x2=\"410.0\" y2=\"200.0\" stroke-linecap=\"round\" style=\"stroke:black;stroke-width:1\" /><line x1=\"410.0\" y1=\"200.0\" x2=\"420.0\" y2=\"200.0\" stroke-linecap=\"round\" style=\"stroke:black;stroke-width:1\" /><line x1=\"420.0\" y1=\"200.0\" x2=\"430.0\" y2=\"200.0\" stroke-linecap=\"round\" style=\"stroke:black;stroke-width:1\" /><line x1=\"430.0\" y1=\"200.0\" x2=\"440.0\" y2=\"200.0\" stroke-linecap=\"round\" style=\"stroke:black;stroke-width:1\" /><line x1=\"440.0\" y1=\"200.0\" x2=\"450.0\" y2=\"200.0\" stroke-linecap=\"round\" style=\"stroke:black;stroke-width:1\" />\n",
              "        \n",
              "        \n",
              "        <g id=\"classic\" visibility=\"visible\" transform=\"rotate(-90,450.0,200.0) translate(450.0, 200.0)\">\n",
              "<polygon points=\"-5,-4.5 0,-2.5 5,-4.5 0,4.5\" transform=\"skewX(0) scale(1,1)\" style=\"stroke:black;fill:black;stroke-width:1\" />\n",
              "</g><g id=\"classic\" visibility=\"visible\" transform=\"rotate(-90,450.0,200.0) translate(450.0, 200.0)\">\n",
              "<polygon points=\"-5,-4.5 0,-2.5 5,-4.5 0,4.5\" transform=\"skewX(0) scale(1,1)\" style=\"stroke:black;fill:black;stroke-width:1\" />\n",
              "</g>\n",
              "      </svg>\n",
              "    "
            ]
          },
          "metadata": {}
        }
      ]
    }
  ]
}